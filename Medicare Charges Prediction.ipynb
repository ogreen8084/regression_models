{
 "cells": [
  {
   "cell_type": "markdown",
   "metadata": {},
   "source": [
    "<h1>Medicare Charges Prediction</h1>\n",
    "<h3>We will be using the Hospital Charges for Inpatients dataset to determine if Deep Learning has an advantage at regression modeling. This is a dataset of 163K rows of hospital charge records from 3337 physicians.\n",
    "Our goal is to use the data to predict the average Medicare charges for physicians. Note that the original dataset has been modified to use for regression. The \"Average Total Payments\" field had a 98% correlation with Medicare charges, as a result it was omitted.</h3>\n",
    "\n",
    "\n",
    "<h2>Method 1: Row Level Regression</h2>\n",
    "<h3>In this simplest example we will attempt to predict the Medicare charge for each row of data.</h3>\n",
    "\n",
    "<h2>Step 1: Import and Process Data</h2>\n",
    "\n",
    "<h3>We will use Pandas to import the Excel file and do some exploratory data analysis</h3>"
   ]
  },
  {
   "cell_type": "code",
   "execution_count": 25,
   "metadata": {},
   "outputs": [],
   "source": [
    "import pandas as pd \n",
    "import numpy as np\n",
    "import warnings\n",
    "import matplotlib.pyplot as plt \n",
    "from sklearn.model_selection import train_test_split\n",
    "warnings.simplefilter('ignore')\n",
    "\n",
    "%matplotlib inline\n",
    "import seaborn as sns\n",
    "\n",
    "sns.set_theme(style='white')\n",
    "sns.set(rc={'figure.figsize':(20, 5)})\n",
    "sns.set(font_scale=1.1) \n"
   ]
  },
  {
   "cell_type": "code",
   "execution_count": 3,
   "metadata": {},
   "outputs": [],
   "source": [
    "excel_file = pd.ExcelFile('providers.xlsx')"
   ]
  },
  {
   "cell_type": "code",
   "execution_count": 4,
   "metadata": {},
   "outputs": [],
   "source": [
    "df = excel_file.parse('original')"
   ]
  },
  {
   "cell_type": "code",
   "execution_count": 5,
   "metadata": {},
   "outputs": [
    {
     "data": {
      "text/html": [
       "<div>\n",
       "<style scoped>\n",
       "    .dataframe tbody tr th:only-of-type {\n",
       "        vertical-align: middle;\n",
       "    }\n",
       "\n",
       "    .dataframe tbody tr th {\n",
       "        vertical-align: top;\n",
       "    }\n",
       "\n",
       "    .dataframe thead th {\n",
       "        text-align: right;\n",
       "    }\n",
       "</style>\n",
       "<table border=\"1\" class=\"dataframe\">\n",
       "  <thead>\n",
       "    <tr style=\"text-align: right;\">\n",
       "      <th></th>\n",
       "      <th>DRG Definition</th>\n",
       "      <th>Provider Id</th>\n",
       "      <th>Provider Name</th>\n",
       "      <th>Provider Street Address</th>\n",
       "      <th>Provider City</th>\n",
       "      <th>Provider State</th>\n",
       "      <th>Provider Zip Code</th>\n",
       "      <th>Hospital Referral Region Description</th>\n",
       "      <th>Total Discharges</th>\n",
       "      <th>Average Covered Charges</th>\n",
       "      <th>y</th>\n",
       "    </tr>\n",
       "  </thead>\n",
       "  <tbody>\n",
       "    <tr>\n",
       "      <th>0</th>\n",
       "      <td>039 - EXTRACRANIAL PROCEDURES W/O CC/MCC</td>\n",
       "      <td>10001</td>\n",
       "      <td>SOUTHEAST ALABAMA MEDICAL CENTER</td>\n",
       "      <td>1108 ROSS CLARK CIRCLE</td>\n",
       "      <td>DOTHAN</td>\n",
       "      <td>AL</td>\n",
       "      <td>36301</td>\n",
       "      <td>AL - Dothan</td>\n",
       "      <td>91</td>\n",
       "      <td>32963.07</td>\n",
       "      <td>4763.73</td>\n",
       "    </tr>\n",
       "    <tr>\n",
       "      <th>1</th>\n",
       "      <td>057 - DEGENERATIVE NERVOUS SYSTEM DISORDERS W/...</td>\n",
       "      <td>10001</td>\n",
       "      <td>SOUTHEAST ALABAMA MEDICAL CENTER</td>\n",
       "      <td>1108 ROSS CLARK CIRCLE</td>\n",
       "      <td>DOTHAN</td>\n",
       "      <td>AL</td>\n",
       "      <td>36301</td>\n",
       "      <td>AL - Dothan</td>\n",
       "      <td>38</td>\n",
       "      <td>20312.78</td>\n",
       "      <td>3865.50</td>\n",
       "    </tr>\n",
       "    <tr>\n",
       "      <th>2</th>\n",
       "      <td>064 - INTRACRANIAL HEMORRHAGE OR CEREBRAL INFA...</td>\n",
       "      <td>10001</td>\n",
       "      <td>SOUTHEAST ALABAMA MEDICAL CENTER</td>\n",
       "      <td>1108 ROSS CLARK CIRCLE</td>\n",
       "      <td>DOTHAN</td>\n",
       "      <td>AL</td>\n",
       "      <td>36301</td>\n",
       "      <td>AL - Dothan</td>\n",
       "      <td>84</td>\n",
       "      <td>38820.39</td>\n",
       "      <td>9167.08</td>\n",
       "    </tr>\n",
       "    <tr>\n",
       "      <th>3</th>\n",
       "      <td>065 - INTRACRANIAL HEMORRHAGE OR CEREBRAL INFA...</td>\n",
       "      <td>10001</td>\n",
       "      <td>SOUTHEAST ALABAMA MEDICAL CENTER</td>\n",
       "      <td>1108 ROSS CLARK CIRCLE</td>\n",
       "      <td>DOTHAN</td>\n",
       "      <td>AL</td>\n",
       "      <td>36301</td>\n",
       "      <td>AL - Dothan</td>\n",
       "      <td>169</td>\n",
       "      <td>27345.10</td>\n",
       "      <td>5438.50</td>\n",
       "    </tr>\n",
       "    <tr>\n",
       "      <th>4</th>\n",
       "      <td>066 - INTRACRANIAL HEMORRHAGE OR CEREBRAL INFA...</td>\n",
       "      <td>10001</td>\n",
       "      <td>SOUTHEAST ALABAMA MEDICAL CENTER</td>\n",
       "      <td>1108 ROSS CLARK CIRCLE</td>\n",
       "      <td>DOTHAN</td>\n",
       "      <td>AL</td>\n",
       "      <td>36301</td>\n",
       "      <td>AL - Dothan</td>\n",
       "      <td>33</td>\n",
       "      <td>17605.51</td>\n",
       "      <td>3618.93</td>\n",
       "    </tr>\n",
       "  </tbody>\n",
       "</table>\n",
       "</div>"
      ],
      "text/plain": [
       "                                      DRG Definition  Provider Id  \\\n",
       "0           039 - EXTRACRANIAL PROCEDURES W/O CC/MCC        10001   \n",
       "1  057 - DEGENERATIVE NERVOUS SYSTEM DISORDERS W/...        10001   \n",
       "2  064 - INTRACRANIAL HEMORRHAGE OR CEREBRAL INFA...        10001   \n",
       "3  065 - INTRACRANIAL HEMORRHAGE OR CEREBRAL INFA...        10001   \n",
       "4  066 - INTRACRANIAL HEMORRHAGE OR CEREBRAL INFA...        10001   \n",
       "\n",
       "                      Provider Name Provider Street Address Provider City  \\\n",
       "0  SOUTHEAST ALABAMA MEDICAL CENTER  1108 ROSS CLARK CIRCLE        DOTHAN   \n",
       "1  SOUTHEAST ALABAMA MEDICAL CENTER  1108 ROSS CLARK CIRCLE        DOTHAN   \n",
       "2  SOUTHEAST ALABAMA MEDICAL CENTER  1108 ROSS CLARK CIRCLE        DOTHAN   \n",
       "3  SOUTHEAST ALABAMA MEDICAL CENTER  1108 ROSS CLARK CIRCLE        DOTHAN   \n",
       "4  SOUTHEAST ALABAMA MEDICAL CENTER  1108 ROSS CLARK CIRCLE        DOTHAN   \n",
       "\n",
       "  Provider State  Provider Zip Code Hospital Referral Region Description  \\\n",
       "0             AL              36301                          AL - Dothan   \n",
       "1             AL              36301                          AL - Dothan   \n",
       "2             AL              36301                          AL - Dothan   \n",
       "3             AL              36301                          AL - Dothan   \n",
       "4             AL              36301                          AL - Dothan   \n",
       "\n",
       "    Total Discharges    Average Covered Charges         y  \n",
       "0                  91                   32963.07  4763.73  \n",
       "1                  38                   20312.78  3865.50  \n",
       "2                  84                   38820.39  9167.08  \n",
       "3                 169                   27345.10  5438.50  \n",
       "4                  33                   17605.51  3618.93  "
      ]
     },
     "execution_count": 5,
     "metadata": {},
     "output_type": "execute_result"
    }
   ],
   "source": [
    "df.head()"
   ]
  },
  {
   "cell_type": "markdown",
   "metadata": {},
   "source": [
    "<h3>We will delete Provider Name, Street Address, City, Zip Code and Region as these variables have too much cardinality and Provider Name is largely redundant to Id.</h3>"
   ]
  },
  {
   "cell_type": "code",
   "execution_count": 6,
   "metadata": {},
   "outputs": [],
   "source": [
    "df = df[['DRG Definition', 'Provider Id', 'Provider State', ' Total Discharges ', ' Average Covered Charges ', 'y']]\n",
    "df.columns = ['DRG_Definition', 'Provider_Id', 'Provider_State', 'Total_Discharges', 'Average_Covered_Charges', 'y']"
   ]
  },
  {
   "cell_type": "markdown",
   "metadata": {},
   "source": [
    "<h3>Split the dataset into a training and test set, 80/20 split. We will use a random seed to ensure reproducability. In the next analysis we will explore the value of adding sequences, as a result we will split the data by doctors instead of simply by rows.</h3>"
   ]
  },
  {
   "cell_type": "code",
   "execution_count": 7,
   "metadata": {},
   "outputs": [],
   "source": [
    "#use a random seed for reproducability\n",
    "import random\n",
    "random.seed(123)"
   ]
  },
  {
   "cell_type": "code",
   "execution_count": 8,
   "metadata": {},
   "outputs": [],
   "source": [
    "#randomly select 80% of doctors and use them as the training set, the remaining 20% will be used for testing \n",
    "Xtrain_docs = random.sample(list(df['Provider_Id'].unique()), int(len(df['Provider_Id'].unique()) * 0.8))\n",
    "Xtest_docs = [x for x in list(df['Provider_Id'].unique()) if x not in Xtrain_docs]"
   ]
  },
  {
   "cell_type": "code",
   "execution_count": 9,
   "metadata": {},
   "outputs": [],
   "source": [
    "train_keys = [int(1)]* len(Xtrain_docs)"
   ]
  },
  {
   "cell_type": "code",
   "execution_count": 10,
   "metadata": {},
   "outputs": [],
   "source": [
    "test_keys = [int(0)] * len(Xtest_docs)"
   ]
  },
  {
   "cell_type": "code",
   "execution_count": 11,
   "metadata": {},
   "outputs": [],
   "source": [
    "map_dict = Xtrain_docs +Xtest_docs \n",
    "map_keys = train_keys + test_keys \n",
    "map_dict2 = dict(zip(map_dict, map_keys))"
   ]
  },
  {
   "cell_type": "code",
   "execution_count": 12,
   "metadata": {},
   "outputs": [],
   "source": [
    "df['Test or Train'] = df['Provider_Id'].map(map_dict2)"
   ]
  },
  {
   "cell_type": "code",
   "execution_count": 13,
   "metadata": {},
   "outputs": [
    {
     "data": {
      "text/plain": [
       "1    0.800221\n",
       "0    0.199779\n",
       "Name: Test or Train, dtype: float64"
      ]
     },
     "execution_count": 13,
     "metadata": {},
     "output_type": "execute_result"
    }
   ],
   "source": [
    "df['Test or Train'].value_counts()/len(df['Test or Train'])"
   ]
  },
  {
   "cell_type": "markdown",
   "metadata": {},
   "source": [
    "<h3>We will simply label the training dataset doctors with a 1 and the test set with a 0 so that we can easily split the dataset</h3>"
   ]
  },
  {
   "cell_type": "code",
   "execution_count": 14,
   "metadata": {},
   "outputs": [],
   "source": [
    "Xtrain = df[df['Test or Train'] == 1]\n",
    "Xtest = df[df['Test or Train'] == 0]"
   ]
  },
  {
   "cell_type": "code",
   "execution_count": 15,
   "metadata": {},
   "outputs": [],
   "source": [
    "ytrain = Xtrain[['y']]\n",
    "ytest = Xtest[['y']]\n",
    "Xtrain.drop(columns=['y'], inplace=True)\n",
    "Xtest.drop(columns=['y'], inplace=True)\n",
    "Xtrain_unscaled = Xtrain.copy()\n",
    "Xtest_unscaled = Xtest.copy()"
   ]
  },
  {
   "cell_type": "code",
   "execution_count": 16,
   "metadata": {},
   "outputs": [],
   "source": [
    "ytrain_index = ytrain.index \n",
    "ytest_index = ytest.index"
   ]
  },
  {
   "cell_type": "markdown",
   "metadata": {},
   "source": [
    "<h2>Feature Engineering</h2>\n",
    "<h3>There are 100 DRG Definitions and over 50 Provider States, creating dummy variables for each would cause the size of the dataset to explode. To keep these features in the dataset without increasing the number of columns we will use mean ordering where we replace the categorical value with the ranking based on the mean of the target variable. In theory this should lead to better results, but since we are using the training set only to perform the ordering it could possibly lead to overfitting.\n",
    "We will observe the distribution of the target variable to see if we can perform a transformation that will make it closer to normally distributed if the target variable isn't</h3>\n",
    "<h2>Normal Distributions</h2>\n",
    "<h3>Some models, particularly linear models which have a normality assumption, benefit from having features with a \"normal distribution\". As a result, we will transform the target value and features to get a more normal distribution. Even for non-linear models, better separation of data may lead to better model results.</h3>"
   ]
  },
  {
   "cell_type": "code",
   "execution_count": 36,
   "metadata": {},
   "outputs": [
    {
     "data": {
      "image/png": "[encoded data removed]",
      "text/plain": [
       "<Figure size 1440x360 with 1 Axes>"
      ]
     },
     "metadata": {},
     "output_type": "display_data"
    }
   ],
   "source": [
    "plt.hist(ytrain.values, color='DodgerBlue')\n",
    "plt.show()"
   ]
  },
  {
   "cell_type": "code",
   "execution_count": 37,
   "metadata": {},
   "outputs": [
    {
     "data": {
      "text/html": [
       "<div>\n",
       "<style scoped>\n",
       "    .dataframe tbody tr th:only-of-type {\n",
       "        vertical-align: middle;\n",
       "    }\n",
       "\n",
       "    .dataframe tbody tr th {\n",
       "        vertical-align: top;\n",
       "    }\n",
       "\n",
       "    .dataframe thead th {\n",
       "        text-align: right;\n",
       "    }\n",
       "</style>\n",
       "<table border=\"1\" class=\"dataframe\">\n",
       "  <thead>\n",
       "    <tr style=\"text-align: right;\">\n",
       "      <th></th>\n",
       "      <th>y</th>\n",
       "    </tr>\n",
       "  </thead>\n",
       "  <tbody>\n",
       "    <tr>\n",
       "      <th>0</th>\n",
       "      <td>8.468786</td>\n",
       "    </tr>\n",
       "    <tr>\n",
       "      <th>1</th>\n",
       "      <td>8.259846</td>\n",
       "    </tr>\n",
       "    <tr>\n",
       "      <th>2</th>\n",
       "      <td>9.123374</td>\n",
       "    </tr>\n",
       "    <tr>\n",
       "      <th>3</th>\n",
       "      <td>8.601259</td>\n",
       "    </tr>\n",
       "    <tr>\n",
       "      <th>4</th>\n",
       "      <td>8.193934</td>\n",
       "    </tr>\n",
       "  </tbody>\n",
       "</table>\n",
       "</div>"
      ],
      "text/plain": [
       "          y\n",
       "0  8.468786\n",
       "1  8.259846\n",
       "2  9.123374\n",
       "3  8.601259\n",
       "4  8.193934"
      ]
     },
     "execution_count": 37,
     "metadata": {},
     "output_type": "execute_result"
    }
   ],
   "source": [
    "ytrainlog = np.log(ytrain)\n",
    "ytrainlog.head()"
   ]
  },
  {
   "cell_type": "code",
   "execution_count": 39,
   "metadata": {},
   "outputs": [
    {
     "data": {
      "image/png": "[encoded data removed]",
      "text/plain": [
       "<Figure size 1440x360 with 1 Axes>"
      ]
     },
     "metadata": {},
     "output_type": "display_data"
    }
   ],
   "source": [
    "plt.hist(ytrainlog.values, color='DodgerBlue')\n",
    "plt.show()"
   ]
  },
  {
   "cell_type": "code",
   "execution_count": 40,
   "metadata": {},
   "outputs": [
    {
     "data": {
      "image/png": "[encoded data removed]",
      "text/plain": [
       "<Figure size 1440x360 with 1 Axes>"
      ]
     },
     "metadata": {},
     "output_type": "display_data"
    }
   ],
   "source": [
    "import scipy.stats as stats \n",
    "y_1, param = stats.yeojohnson(ytrain)\n",
    "plt.hist(y_1, color='DodgerBlue')\n",
    "plt.show()"
   ]
  },
  {
   "cell_type": "code",
   "execution_count": 41,
   "metadata": {},
   "outputs": [],
   "source": [
    "ytrain_unscaled = ytrain.copy()\n",
    "ytest_unscaled = ytest.copy()\n",
    "ytrain, param = stats.yeojohnson(ytrain)\n",
    "ytest = stats.yeojohnson(ytest, lmbda=param)"
   ]
  },
  {
   "cell_type": "code",
   "execution_count": 42,
   "metadata": {},
   "outputs": [],
   "source": [
    "ytrain = pd.DataFrame(ytrain, columns=['y'], index=ytrain_index)\n",
    "ytest = pd.DataFrame(ytest, columns=['y'], index = ytest_index)"
   ]
  },
  {
   "cell_type": "code",
   "execution_count": 43,
   "metadata": {},
   "outputs": [],
   "source": [
    "#this formula will convert categorical variables into a category ranking based on the average value of the target\n",
    "def order_categories(Xtrain, Xtest, ytrain, ytest, categories, target):\n",
    "    dftrain = pd.concat([Xtrain, ytrain], axis=1).copy()\n",
    "    dftest = pd.concat([Xtest, ytest], axis=1).copy()\n",
    "    for col in categories:\n",
    "        ordered_labels = dftrain.groupby(col).mean().sort_values(by=target).index\n",
    "        ordinal_label = {k: i for i,k in enumerate(ordered_labels, 0)}\n",
    "        dftrain[col] = dftrain[col].map(ordinal_label)\n",
    "        dftest[col] = dftest[col].map(ordinal_label)\n",
    "    dftrain.drop([target], axis=1, inplace= True)\n",
    "    dftest.drop([target], axis=1, inplace=True)\n",
    "    \n",
    "    return dftrain, dftest"
   ]
  },
  {
   "cell_type": "code",
   "execution_count": 44,
   "metadata": {},
   "outputs": [],
   "source": [
    "Xtrain, Xtest = order_categories(Xtrain, Xtest, ytrain, ytest, ['Provider_State', 'DRG_Definition'], 'y')\n",
    "Xtrain_unscaled, Xtest_unscaled = order_categories(Xtrain_unscaled, Xtest_unscaled, ytrain_unscaled, ytest_unscaled, ['Provider_State', 'DRG_Definition'], 'y')"
   ]
  },
  {
   "cell_type": "code",
   "execution_count": 45,
   "metadata": {},
   "outputs": [],
   "source": [
    "Xtrain = Xtrain.drop(columns=[ 'Provider_Id'])\n",
    "Xtest = Xtest.drop(columns=['Provider_Id'])"
   ]
  },
  {
   "cell_type": "code",
   "execution_count": 46,
   "metadata": {},
   "outputs": [],
   "source": [
    "Xtrain.drop(columns=['Test or Train'], axis=1, inplace=True)\n",
    "Xtest.drop(columns=['Test or Train'],axis=1, inplace=True)"
   ]
  },
  {
   "cell_type": "code",
   "execution_count": 47,
   "metadata": {},
   "outputs": [
    {
     "data": {
      "image/png": "[encoded data removed]",
      "text/plain": [
       "<Figure size 1440x360 with 1 Axes>"
      ]
     },
     "metadata": {},
     "output_type": "display_data"
    },
    {
     "data": {
      "image/png": "[encoded data removed]",
      "text/plain": [
       "<Figure size 1440x360 with 1 Axes>"
      ]
     },
     "metadata": {},
     "output_type": "display_data"
    },
    {
     "data": {
      "image/png": "[encoded data removed]",
      "text/plain": [
       "<Figure size 1440x360 with 1 Axes>"
      ]
     },
     "metadata": {},
     "output_type": "display_data"
    },
    {
     "data": {
      "image/png": "[encoded data removed]",
      "text/plain": [
       "<Figure size 1440x360 with 1 Axes>"
      ]
     },
     "metadata": {},
     "output_type": "display_data"
    }
   ],
   "source": [
    "for col in Xtrain.columns:\n",
    "    tmp = Xtrain[col]\n",
    "    tmp.plot.hist(color='DodgerBlue')\n",
    "    plt.title(col)\n",
    "    plt.show()"
   ]
  },
  {
   "cell_type": "code",
   "execution_count": 48,
   "metadata": {},
   "outputs": [
    {
     "data": {
      "image/png": "[encoded data removed]",
      "text/plain": [
       "<Figure size 1440x360 with 1 Axes>"
      ]
     },
     "metadata": {},
     "output_type": "display_data"
    },
    {
     "data": {
      "image/png": "[encoded data removed]",
      "text/plain": [
       "<Figure size 1440x360 with 1 Axes>"
      ]
     },
     "metadata": {},
     "output_type": "display_data"
    }
   ],
   "source": [
    "for col in ['Total_Discharges', 'Average_Covered_Charges']:\n",
    "    tmp = np.log(Xtrain[col])\n",
    "    tmp.plot.hist(color='DodgerBlue')\n",
    "    plt.title(str(col) +  ' Log Transformation')\n",
    "    plt.show()"
   ]
  },
  {
   "cell_type": "code",
   "execution_count": 49,
   "metadata": {},
   "outputs": [
    {
     "data": {
      "image/png": "[encoded data removed]",
      "text/plain": [
       "<Figure size 1440x360 with 1 Axes>"
      ]
     },
     "metadata": {},
     "output_type": "display_data"
    }
   ],
   "source": [
    "for col in ['Total_Discharges']:\n",
    "    tmp, param = stats.yeojohnson(Xtrain[col])\n",
    "    plt.hist(tmp, color='DodgerBlue')\n",
    "    plt.title(str(col) + ' yeo-johnson transformation')\n",
    "    plt.show()"
   ]
  },
  {
   "cell_type": "markdown",
   "metadata": {},
   "source": [
    "<h3>Based on the transformation outputs, we will utilize a log transformation for \"Average Covered Charges\" and a yeo-johnson transformation for \"Total Discharges\"</h3>"
   ]
  },
  {
   "cell_type": "code",
   "execution_count": 50,
   "metadata": {},
   "outputs": [],
   "source": [
    "Xtrain['Average_Covered_Charges'] =  np.log(Xtrain['Average_Covered_Charges'])\n",
    "Xtest['Average_Covered_Charges'] =  np.log(Xtest['Average_Covered_Charges'])\n",
    "Xtrain['Total_Discharges'], param =  stats.yeojohnson(Xtrain['Total_Discharges'])\n",
    "Xtest['Total_Discharges'] =  stats.yeojohnson(Xtest['Total_Discharges'], lmbda = param)"
   ]
  },
  {
   "cell_type": "code",
   "execution_count": 51,
   "metadata": {},
   "outputs": [
    {
     "data": {
      "text/html": [
       "<div>\n",
       "<style scoped>\n",
       "    .dataframe tbody tr th:only-of-type {\n",
       "        vertical-align: middle;\n",
       "    }\n",
       "\n",
       "    .dataframe tbody tr th {\n",
       "        vertical-align: top;\n",
       "    }\n",
       "\n",
       "    .dataframe thead th {\n",
       "        text-align: right;\n",
       "    }\n",
       "</style>\n",
       "<table border=\"1\" class=\"dataframe\">\n",
       "  <thead>\n",
       "    <tr style=\"text-align: right;\">\n",
       "      <th></th>\n",
       "      <th>DRG_Definition</th>\n",
       "      <th>Provider_State</th>\n",
       "      <th>Total_Discharges</th>\n",
       "      <th>Average_Covered_Charges</th>\n",
       "    </tr>\n",
       "  </thead>\n",
       "  <tbody>\n",
       "    <tr>\n",
       "      <th>count</th>\n",
       "      <td>130488.000000</td>\n",
       "      <td>130488.000000</td>\n",
       "      <td>130488.000000</td>\n",
       "      <td>130488.000000</td>\n",
       "    </tr>\n",
       "    <tr>\n",
       "      <th>mean</th>\n",
       "      <td>47.196317</td>\n",
       "      <td>23.480925</td>\n",
       "      <td>1.617079</td>\n",
       "      <td>10.200579</td>\n",
       "    </tr>\n",
       "    <tr>\n",
       "      <th>std</th>\n",
       "      <td>27.720530</td>\n",
       "      <td>13.824511</td>\n",
       "      <td>0.118632</td>\n",
       "      <td>0.724180</td>\n",
       "    </tr>\n",
       "    <tr>\n",
       "      <th>min</th>\n",
       "      <td>0.000000</td>\n",
       "      <td>0.000000</td>\n",
       "      <td>1.418286</td>\n",
       "      <td>7.807673</td>\n",
       "    </tr>\n",
       "    <tr>\n",
       "      <th>25%</th>\n",
       "      <td>24.000000</td>\n",
       "      <td>13.000000</td>\n",
       "      <td>1.523354</td>\n",
       "      <td>9.674882</td>\n",
       "    </tr>\n",
       "    <tr>\n",
       "      <th>50%</th>\n",
       "      <td>47.000000</td>\n",
       "      <td>22.000000</td>\n",
       "      <td>1.615900</td>\n",
       "      <td>10.131954</td>\n",
       "    </tr>\n",
       "    <tr>\n",
       "      <th>75%</th>\n",
       "      <td>71.000000</td>\n",
       "      <td>37.000000</td>\n",
       "      <td>1.709963</td>\n",
       "      <td>10.668627</td>\n",
       "    </tr>\n",
       "    <tr>\n",
       "      <th>max</th>\n",
       "      <td>99.000000</td>\n",
       "      <td>50.000000</td>\n",
       "      <td>1.954355</td>\n",
       "      <td>13.741992</td>\n",
       "    </tr>\n",
       "  </tbody>\n",
       "</table>\n",
       "</div>"
      ],
      "text/plain": [
       "       DRG_Definition  Provider_State  Total_Discharges  \\\n",
       "count   130488.000000   130488.000000     130488.000000   \n",
       "mean        47.196317       23.480925          1.617079   \n",
       "std         27.720530       13.824511          0.118632   \n",
       "min          0.000000        0.000000          1.418286   \n",
       "25%         24.000000       13.000000          1.523354   \n",
       "50%         47.000000       22.000000          1.615900   \n",
       "75%         71.000000       37.000000          1.709963   \n",
       "max         99.000000       50.000000          1.954355   \n",
       "\n",
       "       Average_Covered_Charges  \n",
       "count            130488.000000  \n",
       "mean                 10.200579  \n",
       "std                   0.724180  \n",
       "min                   7.807673  \n",
       "25%                   9.674882  \n",
       "50%                  10.131954  \n",
       "75%                  10.668627  \n",
       "max                  13.741992  "
      ]
     },
     "execution_count": 51,
     "metadata": {},
     "output_type": "execute_result"
    }
   ],
   "source": [
    "Xtrain.describe()"
   ]
  },
  {
   "cell_type": "code",
   "execution_count": 52,
   "metadata": {},
   "outputs": [
    {
     "data": {
      "text/html": [
       "<div>\n",
       "<style scoped>\n",
       "    .dataframe tbody tr th:only-of-type {\n",
       "        vertical-align: middle;\n",
       "    }\n",
       "\n",
       "    .dataframe tbody tr th {\n",
       "        vertical-align: top;\n",
       "    }\n",
       "\n",
       "    .dataframe thead th {\n",
       "        text-align: right;\n",
       "    }\n",
       "</style>\n",
       "<table border=\"1\" class=\"dataframe\">\n",
       "  <thead>\n",
       "    <tr style=\"text-align: right;\">\n",
       "      <th></th>\n",
       "      <th>DRG_Definition</th>\n",
       "      <th>Provider_Id</th>\n",
       "      <th>Provider_State</th>\n",
       "      <th>Total_Discharges</th>\n",
       "      <th>Average_Covered_Charges</th>\n",
       "      <th>Test or Train</th>\n",
       "    </tr>\n",
       "  </thead>\n",
       "  <tbody>\n",
       "    <tr>\n",
       "      <th>count</th>\n",
       "      <td>130488.000000</td>\n",
       "      <td>130488.000000</td>\n",
       "      <td>130488.000000</td>\n",
       "      <td>130488.000000</td>\n",
       "      <td>130488.000000</td>\n",
       "      <td>130488.0</td>\n",
       "    </tr>\n",
       "    <tr>\n",
       "      <th>mean</th>\n",
       "      <td>47.138197</td>\n",
       "      <td>256229.433174</td>\n",
       "      <td>24.325118</td>\n",
       "      <td>42.740122</td>\n",
       "      <td>35939.987097</td>\n",
       "      <td>1.0</td>\n",
       "    </tr>\n",
       "    <tr>\n",
       "      <th>std</th>\n",
       "      <td>27.823961</td>\n",
       "      <td>151202.489894</td>\n",
       "      <td>13.970093</td>\n",
       "      <td>51.332748</td>\n",
       "      <td>34789.739010</td>\n",
       "      <td>0.0</td>\n",
       "    </tr>\n",
       "    <tr>\n",
       "      <th>min</th>\n",
       "      <td>0.000000</td>\n",
       "      <td>10001.000000</td>\n",
       "      <td>0.000000</td>\n",
       "      <td>11.000000</td>\n",
       "      <td>2459.400000</td>\n",
       "      <td>1.0</td>\n",
       "    </tr>\n",
       "    <tr>\n",
       "      <th>25%</th>\n",
       "      <td>23.000000</td>\n",
       "      <td>110089.000000</td>\n",
       "      <td>14.000000</td>\n",
       "      <td>17.000000</td>\n",
       "      <td>15912.847500</td>\n",
       "      <td>1.0</td>\n",
       "    </tr>\n",
       "    <tr>\n",
       "      <th>50%</th>\n",
       "      <td>47.000000</td>\n",
       "      <td>250048.000000</td>\n",
       "      <td>23.000000</td>\n",
       "      <td>27.000000</td>\n",
       "      <td>25133.430000</td>\n",
       "      <td>1.0</td>\n",
       "    </tr>\n",
       "    <tr>\n",
       "      <th>75%</th>\n",
       "      <td>70.000000</td>\n",
       "      <td>380061.000000</td>\n",
       "      <td>36.000000</td>\n",
       "      <td>49.000000</td>\n",
       "      <td>42985.870000</td>\n",
       "      <td>1.0</td>\n",
       "    </tr>\n",
       "    <tr>\n",
       "      <th>max</th>\n",
       "      <td>99.000000</td>\n",
       "      <td>670077.000000</td>\n",
       "      <td>50.000000</td>\n",
       "      <td>3383.000000</td>\n",
       "      <td>929118.900000</td>\n",
       "      <td>1.0</td>\n",
       "    </tr>\n",
       "  </tbody>\n",
       "</table>\n",
       "</div>"
      ],
      "text/plain": [
       "       DRG_Definition    Provider_Id  Provider_State  Total_Discharges  \\\n",
       "count   130488.000000  130488.000000   130488.000000     130488.000000   \n",
       "mean        47.138197  256229.433174       24.325118         42.740122   \n",
       "std         27.823961  151202.489894       13.970093         51.332748   \n",
       "min          0.000000   10001.000000        0.000000         11.000000   \n",
       "25%         23.000000  110089.000000       14.000000         17.000000   \n",
       "50%         47.000000  250048.000000       23.000000         27.000000   \n",
       "75%         70.000000  380061.000000       36.000000         49.000000   \n",
       "max         99.000000  670077.000000       50.000000       3383.000000   \n",
       "\n",
       "       Average_Covered_Charges  Test or Train  \n",
       "count            130488.000000       130488.0  \n",
       "mean              35939.987097            1.0  \n",
       "std               34789.739010            0.0  \n",
       "min                2459.400000            1.0  \n",
       "25%               15912.847500            1.0  \n",
       "50%               25133.430000            1.0  \n",
       "75%               42985.870000            1.0  \n",
       "max              929118.900000            1.0  "
      ]
     },
     "execution_count": 52,
     "metadata": {},
     "output_type": "execute_result"
    }
   ],
   "source": [
    "Xtrain_unscaled.describe()"
   ]
  },
  {
   "cell_type": "code",
   "execution_count": 53,
   "metadata": {},
   "outputs": [],
   "source": [
    "from sklearn.preprocessing import MinMaxScaler"
   ]
  },
  {
   "cell_type": "code",
   "execution_count": 54,
   "metadata": {},
   "outputs": [],
   "source": [
    "scaled_features = Xtrain.copy()\n",
    "scaled_features2 = Xtest.copy()\n",
    "\n",
    "col_names = ['DRG_Definition', 'Provider_State', 'Total_Discharges', 'Average_Covered_Charges']\n",
    "features = scaled_features[col_names]\n",
    "features2 = scaled_features2[col_names]\n",
    "\n",
    "\n",
    "scaler = MinMaxScaler().fit(features.values)\n",
    "features = scaler.transform(features.values)\n",
    "features2 = scaler.transform(features2.values)\n",
    "\n",
    "Xtrain[col_names] = features\n",
    "Xtest[col_names] = features2\n",
    "\n",
    "yscaler = MinMaxScaler().fit(np.array(ytrain).reshape(-1, 1))\n",
    "ytrain = yscaler.transform(np.array(ytrain).reshape(-1, 1))\n",
    "ytest = yscaler.transform(np.array(ytest).reshape(-1, 1))"
   ]
  },
  {
   "cell_type": "markdown",
   "metadata": {},
   "source": [
    "<h2>Step 2: Machine Learning Algorithm Comparison</h2>\n",
    "<h3>We will compare Deep Learning to Linear Regression, Ridge Regression, Support Vector Machine Regression, Gradient Boosting, AdaBoost and XGBoost</h3>"
   ]
  },
  {
   "cell_type": "code",
   "execution_count": 56,
   "metadata": {},
   "outputs": [],
   "source": [
    "from sklearn.metrics import mean_squared_error\n",
    "from sklearn.metrics import r2_score\n",
    "import tensorflow as tf\n",
    "from sklearn.linear_model import LinearRegression, Ridge\n",
    "from sklearn import svm\n",
    "from sklearn.ensemble import AdaBoostRegressor, GradientBoostingRegressor"
   ]
  },
  {
   "cell_type": "markdown",
   "metadata": {},
   "source": [
    "<h2>Linear Regression</h2>\n",
    "<h3>Unscaled</h3>"
   ]
  },
  {
   "cell_type": "code",
   "execution_count": 57,
   "metadata": {},
   "outputs": [],
   "source": [
    "lr = LinearRegression()\n",
    "lr.fit(Xtrain_unscaled, ytrain_unscaled)\n",
    "ytrain_pred_unscaled = lr.predict(Xtrain_unscaled)"
   ]
  },
  {
   "cell_type": "code",
   "execution_count": 59,
   "metadata": {},
   "outputs": [
    {
     "name": "stdout",
     "output_type": "stream",
     "text": [
      "The mean squared error of the model on the training set is:  14966417.46693095\n",
      "The mean squared error of the model on the test set is:  15247241.910642186\n"
     ]
    }
   ],
   "source": [
    "print('The mean squared error of the model on the training set is: ', mean_squared_error(ytrain_unscaled, ytrain_pred_unscaled ))\n",
    "ytest_pred_unscaled = lr.predict(Xtest_unscaled)\n",
    "print('The mean squared error of the model on the test set is: ', mean_squared_error(ytest_unscaled, ytest_pred_unscaled))"
   ]
  },
  {
   "cell_type": "code",
   "execution_count": 60,
   "metadata": {},
   "outputs": [
    {
     "name": "stdout",
     "output_type": "stream",
     "text": [
      "The RSquared score on the training set is:  0.7195901047388807\n",
      "The RSquared score on the test set is:  0.7157579915330547\n"
     ]
    }
   ],
   "source": [
    "print('The RSquared score on the training set is: ' , r2_score(ytrain_unscaled, ytrain_pred_unscaled))\n",
    "print('The RSquared score on the test set is: ' , r2_score(ytest_unscaled, ytest_pred_unscaled))"
   ]
  },
  {
   "cell_type": "code",
   "execution_count": 62,
   "metadata": {},
   "outputs": [],
   "source": [
    "testing_tracker = []\n",
    "testing_tracker.append(['Lin Reg Unscaled',  mean_squared_error(ytest_unscaled, ytest_pred_unscaled), r2_score(ytest_unscaled, ytest_pred_unscaled)])"
   ]
  },
  {
   "cell_type": "markdown",
   "metadata": {},
   "source": [
    "<h3>Scaled</h3>"
   ]
  },
  {
   "cell_type": "code",
   "execution_count": 63,
   "metadata": {},
   "outputs": [],
   "source": [
    "lr = LinearRegression()\n",
    "lr.fit(Xtrain, ytrain)\n",
    "ytrain_pred = lr.predict(Xtrain)"
   ]
  },
  {
   "cell_type": "code",
   "execution_count": 65,
   "metadata": {},
   "outputs": [
    {
     "name": "stdout",
     "output_type": "stream",
     "text": [
      "The mean squared error of the model on the training set is:  0.0023802453442954914\n",
      "The mean squared error of the model on the test set is:  0.0022344811562814374\n"
     ]
    }
   ],
   "source": [
    "print('The mean squared error of the model on the training set is: ', mean_squared_error(ytrain, ytrain_pred ))\n",
    "ytest_pred = lr.predict(Xtest)\n",
    "print('The mean squared error of the model on the test set is: ', mean_squared_error(ytest, ytest_pred))"
   ]
  },
  {
   "cell_type": "code",
   "execution_count": 66,
   "metadata": {},
   "outputs": [
    {
     "name": "stdout",
     "output_type": "stream",
     "text": [
      "The RSquared score on the training set is:  0.8749944988984167\n",
      "The RSquared score on the test set is:  0.8832603511458895\n"
     ]
    }
   ],
   "source": [
    "print('The RSquared score on the training set is: ' , r2_score(ytrain, ytrain_pred))\n",
    "print('The RSquared score on the test set is: ' , r2_score(ytest, ytest_pred))"
   ]
  },
  {
   "cell_type": "code",
   "execution_count": 67,
   "metadata": {},
   "outputs": [],
   "source": [
    "testing_tracker.append(['Lin Reg',  mean_squared_error(ytest, ytest_pred), r2_score(ytest, ytest_pred) ])\n"
   ]
  },
  {
   "cell_type": "markdown",
   "metadata": {},
   "source": [
    "<h2>Ridge Regression</h2>"
   ]
  },
  {
   "cell_type": "code",
   "execution_count": 69,
   "metadata": {},
   "outputs": [],
   "source": [
    "rr = Ridge()\n",
    "rr.fit(Xtrain, ytrain)\n",
    "ytrain_pred2 = rr.predict(Xtrain)\n",
    "ytest_pred2 = rr.predict(Xtest)"
   ]
  },
  {
   "cell_type": "code",
   "execution_count": 70,
   "metadata": {},
   "outputs": [
    {
     "name": "stdout",
     "output_type": "stream",
     "text": [
      "The mean squared error of the model on the training set is:  0.0023802454748357723\n",
      "The mean squared error of the model on the test set is:  0.002234493490468066\n"
     ]
    }
   ],
   "source": [
    "print('The mean squared error of the model on the training set is: ', mean_squared_error(ytrain, ytrain_pred2 ))\n",
    "print('The mean squared error of the model on the test set is: ', mean_squared_error(ytest, ytest_pred2))"
   ]
  },
  {
   "cell_type": "code",
   "execution_count": 71,
   "metadata": {},
   "outputs": [
    {
     "name": "stdout",
     "output_type": "stream",
     "text": [
      "The RSquared score on the training set is:  0.8749944920427145\n",
      "The RSquared score on the test set is:  0.8832597067508308\n"
     ]
    }
   ],
   "source": [
    "print('The RSquared score on the training set is: ' , r2_score(ytrain, ytrain_pred2))\n",
    "print('The RSquared score on the test set is: ' , r2_score(ytest, ytest_pred2))"
   ]
  },
  {
   "cell_type": "code",
   "execution_count": 72,
   "metadata": {},
   "outputs": [],
   "source": [
    "testing_tracker.append(['Ridge Reg',  mean_squared_error(ytest, ytest_pred2), r2_score(ytest, ytest_pred2) ])"
   ]
  },
  {
   "cell_type": "markdown",
   "metadata": {},
   "source": [
    "<h2>AdaBoost</h2>"
   ]
  },
  {
   "cell_type": "code",
   "execution_count": 74,
   "metadata": {},
   "outputs": [
    {
     "name": "stdout",
     "output_type": "stream",
     "text": [
      "0.0028419165662429465\n"
     ]
    }
   ],
   "source": [
    "adar = AdaBoostRegressor()\n",
    "adar.fit(Xtrain, ytrain)\n",
    "ytrain_pred_adar = adar.predict(Xtrain)\n",
    "print(mean_squared_error(ytrain, ytrain_pred_adar))\n",
    "ytest_pred_adar = adar.predict(Xtest)"
   ]
  },
  {
   "cell_type": "code",
   "execution_count": 76,
   "metadata": {},
   "outputs": [
    {
     "name": "stdout",
     "output_type": "stream",
     "text": [
      "The mean squared error of the model on the training set is:  0.0028419165662429465\n",
      "The mean squared error of the model on the test set is:  0.0027235162150641787\n"
     ]
    }
   ],
   "source": [
    "print('The mean squared error of the model on the training set is: ', mean_squared_error(ytrain, ytrain_pred_adar ))\n",
    "print('The mean squared error of the model on the test set is: ', mean_squared_error(ytest, ytest_pred_adar))"
   ]
  },
  {
   "cell_type": "code",
   "execution_count": 77,
   "metadata": {},
   "outputs": [
    {
     "name": "stdout",
     "output_type": "stream",
     "text": [
      "The RSquared score on the training set is:  0.8507484930897998\n",
      "The RSquared score on the test set is:  0.8577108937789482\n"
     ]
    }
   ],
   "source": [
    "print('The RSquared score on the training set is: ' , r2_score(ytrain, ytrain_pred_adar))\n",
    "print('The RSquared score on the test set is: ' , r2_score(ytest, ytest_pred_adar))"
   ]
  },
  {
   "cell_type": "code",
   "execution_count": 78,
   "metadata": {},
   "outputs": [],
   "source": [
    "testing_tracker.append(['AdaBoost',  mean_squared_error(ytest, ytest_pred_adar), r2_score(ytest, ytest_pred_adar) ])"
   ]
  },
  {
   "cell_type": "markdown",
   "metadata": {},
   "source": [
    "<h2>Gradient Boosting</h2>"
   ]
  },
  {
   "cell_type": "code",
   "execution_count": 80,
   "metadata": {},
   "outputs": [
    {
     "name": "stdout",
     "output_type": "stream",
     "text": [
      "0.0019637654063100357\n"
     ]
    }
   ],
   "source": [
    "gbr = GradientBoostingRegressor()\n",
    "gbr.fit(Xtrain, ytrain) \n",
    "ytrain_pred_gbr = gbr.predict(Xtrain)\n",
    "print(mean_squared_error(ytrain, ytrain_pred_gbr))\n",
    "ytest_pred_gbr = gbr.predict(Xtest)"
   ]
  },
  {
   "cell_type": "code",
   "execution_count": 81,
   "metadata": {},
   "outputs": [
    {
     "name": "stdout",
     "output_type": "stream",
     "text": [
      "The mean squared error of the model on the training set is:  0.0019637654063100357\n",
      "The mean squared error of the model on the test set is:  0.0017174804026535465\n"
     ]
    }
   ],
   "source": [
    "print('The mean squared error of the model on the training set is: ', mean_squared_error(ytrain, ytrain_pred_gbr ))\n",
    "print('The mean squared error of the model on the test set is: ', mean_squared_error(ytest, ytest_pred_gbr))"
   ]
  },
  {
   "cell_type": "code",
   "execution_count": 82,
   "metadata": {},
   "outputs": [
    {
     "name": "stdout",
     "output_type": "stream",
     "text": [
      "The RSquared score on the training set is:  0.8968671531066903\n",
      "The RSquared score on the test set is:  0.9102708659878543\n"
     ]
    }
   ],
   "source": [
    "print('The RSquared score on the training set is: ' , r2_score(ytrain, ytrain_pred_gbr))\n",
    "print('The RSquared score on the test set is: ' , r2_score(ytest, ytest_pred_gbr))"
   ]
  },
  {
   "cell_type": "code",
   "execution_count": 84,
   "metadata": {},
   "outputs": [],
   "source": [
    "testing_tracker.append(['Grad. Boosting',  mean_squared_error(ytest, ytest_pred_gbr), r2_score(ytest, ytest_pred_gbr)])"
   ]
  },
  {
   "cell_type": "markdown",
   "metadata": {},
   "source": [
    "<h2>XGBoost</h2>"
   ]
  },
  {
   "cell_type": "code",
   "execution_count": 87,
   "metadata": {},
   "outputs": [],
   "source": [
    "from xgboost import XGBRegressor"
   ]
  },
  {
   "cell_type": "code",
   "execution_count": 88,
   "metadata": {},
   "outputs": [
    {
     "name": "stdout",
     "output_type": "stream",
     "text": [
      "122268683.32604058\n"
     ]
    }
   ],
   "source": [
    "xgbru = XGBRegressor()\n",
    "xgbru.fit(Xtrain_unscaled, ytrain_unscaled) \n",
    "ytrain_pred_xgbr_unscaled = xgbru.predict(Xtrain_unscaled)\n",
    "print(mean_squared_error(ytrain, ytrain_pred_xgbr_unscaled))\n",
    "ytest_pred_xgbr_unscaled = xgbru.predict(Xtest_unscaled)"
   ]
  },
  {
   "cell_type": "code",
   "execution_count": 89,
   "metadata": {},
   "outputs": [
    {
     "name": "stdout",
     "output_type": "stream",
     "text": [
      "The mean squared error of the model on the training set is:  2031786.9362609182\n",
      "The mean squared error of the model on the test set is:  4666202.183635841\n"
     ]
    }
   ],
   "source": [
    "print('The mean squared error of the model on the training set is: ', mean_squared_error(ytrain_unscaled, ytrain_pred_xgbr_unscaled ))\n",
    "print('The mean squared error of the model on the test set is: ', mean_squared_error(ytest_unscaled, ytest_pred_xgbr_unscaled))"
   ]
  },
  {
   "cell_type": "code",
   "execution_count": 90,
   "metadata": {},
   "outputs": [
    {
     "name": "stdout",
     "output_type": "stream",
     "text": [
      "The RSquared score on the training set is:  0.9619325624686944\n",
      "The RSquared score on the test set is:  0.9130117638086562\n"
     ]
    }
   ],
   "source": [
    "print('The RSquared score on the training set is: ' , r2_score(ytrain_unscaled, ytrain_pred_xgbr_unscaled))\n",
    "print('The RSquared score on the test set is: ' , r2_score(ytest_unscaled, ytest_pred_xgbr_unscaled))"
   ]
  },
  {
   "cell_type": "code",
   "execution_count": 91,
   "metadata": {},
   "outputs": [],
   "source": [
    "testing_tracker.append(['Unscaled XGBoost',  mean_squared_error(ytest_unscaled, ytest_pred_xgbr_unscaled), r2_score(ytest_unscaled, ytest_pred_xgbr_unscaled)])"
   ]
  },
  {
   "cell_type": "code",
   "execution_count": 93,
   "metadata": {},
   "outputs": [
    {
     "name": "stdout",
     "output_type": "stream",
     "text": [
      "0.0018350188607346328\n"
     ]
    }
   ],
   "source": [
    "xgbr = XGBRegressor(learning_rate=0.1)\n",
    "xgbr.fit(Xtrain, ytrain) \n",
    "ytrain_pred_xgbr = xgbr.predict(Xtrain)\n",
    "print(mean_squared_error(ytrain, ytrain_pred_xgbr))\n",
    "ytest_pred_xgbr = xgbr.predict(Xtest)"
   ]
  },
  {
   "cell_type": "code",
   "execution_count": 94,
   "metadata": {},
   "outputs": [
    {
     "name": "stdout",
     "output_type": "stream",
     "text": [
      "The mean squared error of the model on the training set is:  0.0018350188607346328\n",
      "The mean squared error of the model on the test set is:  0.0016267347918709236\n"
     ]
    }
   ],
   "source": [
    "print('The mean squared error of the model on the training set is: ', mean_squared_error(ytrain, ytrain_pred_xgbr ))\n",
    "print('The mean squared error of the model on the test set is: ', mean_squared_error(ytest, ytest_pred_xgbr))"
   ]
  },
  {
   "cell_type": "code",
   "execution_count": 95,
   "metadata": {},
   "outputs": [
    {
     "name": "stdout",
     "output_type": "stream",
     "text": [
      "The RSquared score on the training set is:  0.9036286520770893\n",
      "The RSquared score on the test set is:  0.9150118371560537\n"
     ]
    }
   ],
   "source": [
    "print('The RSquared score on the training set is: ' , r2_score(ytrain, ytrain_pred_xgbr))\n",
    "print('The RSquared score on the test set is: ' , r2_score(ytest, ytest_pred_xgbr))"
   ]
  },
  {
   "cell_type": "code",
   "execution_count": 96,
   "metadata": {},
   "outputs": [],
   "source": [
    "testing_tracker.append(['XGBoost',  mean_squared_error(ytest, ytest_pred_xgbr), r2_score(ytest, ytest_pred_xgbr) ])"
   ]
  },
  {
   "cell_type": "markdown",
   "metadata": {},
   "source": [
    "<h2>Explainable Boosting</h2>"
   ]
  },
  {
   "cell_type": "code",
   "execution_count": 101,
   "metadata": {},
   "outputs": [
    {
     "name": "stdout",
     "output_type": "stream",
     "text": [
      "0.0023669038548096784\n"
     ]
    }
   ],
   "source": [
    "from interpret.glassbox import ExplainableBoostingRegressor\n",
    "ebm = ExplainableBoostingRegressor(random_state=201, interactions=0)\n",
    "ebm.fit(Xtrain, ytrain)\n",
    "ytrain_pred_ebm = ebm.predict(Xtrain)\n",
    "print(mean_squared_error(ytrain, ytrain_pred_ebm))\n",
    "ytest_pred_ebm = ebm.predict(Xtest)"
   ]
  },
  {
   "cell_type": "code",
   "execution_count": 102,
   "metadata": {},
   "outputs": [
    {
     "name": "stdout",
     "output_type": "stream",
     "text": [
      "The mean squared error of the model on the training set is:  0.0023669038548096784\n",
      "The mean squared error of the model on the test set is:  0.0022229792633206057\n"
     ]
    }
   ],
   "source": [
    "print('The mean squared error of the model on the training set is: ', mean_squared_error(ytrain, ytrain_pred_ebm ))\n",
    "print('The mean squared error of the model on the test set is: ', mean_squared_error(ytest, ytest_pred_ebm))"
   ]
  },
  {
   "cell_type": "code",
   "execution_count": 103,
   "metadata": {},
   "outputs": [
    {
     "name": "stdout",
     "output_type": "stream",
     "text": [
      "The RSquared score on the training set is:  0.8756951659883083\n",
      "The RSquared score on the test set is:  0.8838612633270598\n"
     ]
    }
   ],
   "source": [
    "print('The RSquared score on the training set is: ' , r2_score(ytrain, ytrain_pred_ebm))\n",
    "print('The RSquared score on the test set is: ' , r2_score(ytest, ytest_pred_ebm))"
   ]
  },
  {
   "cell_type": "code",
   "execution_count": 104,
   "metadata": {},
   "outputs": [],
   "source": [
    "testing_tracker.append(['Explain. Boost',  mean_squared_error(ytest, ytest_pred_ebm), r2_score(ytest, ytest_pred_ebm)])"
   ]
  },
  {
   "cell_type": "markdown",
   "metadata": {},
   "source": [
    "<h2>TensorFlow (Feedforward Neural Network)</h2>"
   ]
  },
  {
   "cell_type": "code",
   "execution_count": 108,
   "metadata": {},
   "outputs": [],
   "source": [
    "from tensorflow.keras.models import Sequential\n",
    "from tensorflow.keras.layers import Dropout, Dense, PReLU\n",
    "from tensorflow.keras.initializers import GlorotNormal\n",
    "from tensorflow.keras.regularizers import L1L2\n",
    "kern_reg = L1L2(1e-5,1e-5)\n",
    "x1 = GlorotNormal(seed=123)\n",
    "x2 = GlorotNormal(seed=1234)\n",
    "x3 = GlorotNormal(seed=12345)\n",
    "x4 = GlorotNormal(seed=123456)\n",
    "x5 = GlorotNormal(seed=1234567)"
   ]
  },
  {
   "cell_type": "code",
   "execution_count": 109,
   "metadata": {},
   "outputs": [],
   "source": [
    "def model_tf(input_shp):\n",
    "    model = tf.keras.Sequential([\n",
    "        Dense(128, activation= 'relu', kernel_initializer=x1, bias_initializer='zeros',kernel_regularizer=kern_reg,  input_shape=(input_shp,)),\n",
    "        Dense(128, activation= 'relu', kernel_initializer=x2, bias_initializer='zeros', kernel_regularizer=kern_reg),\n",
    "        Dense(128, activation= 'relu', kernel_initializer=x3, bias_initializer='zeros',kernel_regularizer=kern_reg),\n",
    "        Dense(128, activation= 'relu', kernel_initializer=x4, bias_initializer='zeros',kernel_regularizer=kern_reg),\n",
    "        Dense(128, activation= 'relu', kernel_initializer=x5, bias_initializer='zeros',kernel_regularizer=kern_reg),      \n",
    "        Dense(1)\n",
    "    ])\n",
    "    \n",
    "    model.compile(optimizer='adam', loss='mse', metrics=['mse'])\n",
    "    \n",
    "    return model"
   ]
  },
  {
   "cell_type": "code",
   "execution_count": 110,
   "metadata": {},
   "outputs": [],
   "source": [
    "model = model_tf(Xtrain.shape[1])"
   ]
  },
  {
   "cell_type": "code",
   "execution_count": 111,
   "metadata": {},
   "outputs": [
    {
     "name": "stdout",
     "output_type": "stream",
     "text": [
      "Model: \"sequential\"\n",
      "_________________________________________________________________\n",
      "Layer (type)                 Output Shape              Param #   \n",
      "=================================================================\n",
      "dense (Dense)                (None, 128)               640       \n",
      "_________________________________________________________________\n",
      "dense_1 (Dense)              (None, 128)               16512     \n",
      "_________________________________________________________________\n",
      "dense_2 (Dense)              (None, 128)               16512     \n",
      "_________________________________________________________________\n",
      "dense_3 (Dense)              (None, 128)               16512     \n",
      "_________________________________________________________________\n",
      "dense_4 (Dense)              (None, 128)               16512     \n",
      "_________________________________________________________________\n",
      "dense_5 (Dense)              (None, 1)                 129       \n",
      "=================================================================\n",
      "Total params: 66,817\n",
      "Trainable params: 66,817\n",
      "Non-trainable params: 0\n",
      "_________________________________________________________________\n"
     ]
    }
   ],
   "source": [
    "model.summary()"
   ]
  },
  {
   "cell_type": "code",
   "execution_count": 112,
   "metadata": {},
   "outputs": [],
   "source": [
    "from tensorflow.keras.callbacks import ModelCheckpoint"
   ]
  },
  {
   "cell_type": "code",
   "execution_count": 113,
   "metadata": {},
   "outputs": [],
   "source": [
    "checkpoint_path = 'model_checkpoints_reg1'\n",
    "checkpoint = ModelCheckpoint(filepath=checkpoint_path,\n",
    "                            frequency='epoch',\n",
    "                            save_weights_only=True,\n",
    "                            save_best_only=True,\n",
    "                            monitor='loss',\n",
    "                            verbose=1)"
   ]
  },
  {
   "cell_type": "code",
   "execution_count": 114,
   "metadata": {},
   "outputs": [
    {
     "name": "stdout",
     "output_type": "stream",
     "text": [
      "Epoch 1/30\n",
      "4078/4078 [==============================] - 7s 2ms/step - loss: 0.0094 - mse: 0.0029\n",
      "\n",
      "Epoch 00001: loss improved from inf to 0.00936, saving model to model_checkpoints_reg1\n",
      "Epoch 2/30\n",
      "4078/4078 [==============================] - 7s 2ms/step - loss: 0.0031 - mse: 0.0023\n",
      "\n",
      "Epoch 00002: loss improved from 0.00936 to 0.00307, saving model to model_checkpoints_reg1\n",
      "Epoch 3/30\n",
      "4078/4078 [==============================] - 8s 2ms/step - loss: 0.0028 - mse: 0.0023\n",
      "\n",
      "Epoch 00003: loss improved from 0.00307 to 0.00278, saving model to model_checkpoints_reg1\n",
      "Epoch 4/30\n",
      "4078/4078 [==============================] - 10s 2ms/step - loss: 0.0027 - mse: 0.0023\n",
      "\n",
      "Epoch 00004: loss improved from 0.00278 to 0.00267, saving model to model_checkpoints_reg1\n",
      "Epoch 5/30\n",
      "4078/4078 [==============================] - 13s 3ms/step - loss: 0.0026 - mse: 0.0022\n",
      "\n",
      "Epoch 00005: loss improved from 0.00267 to 0.00263, saving model to model_checkpoints_reg1\n",
      "Epoch 6/30\n",
      "4078/4078 [==============================] - 19s 5ms/step - loss: 0.0026 - mse: 0.0022\n",
      "\n",
      "Epoch 00006: loss improved from 0.00263 to 0.00260, saving model to model_checkpoints_reg1\n",
      "Epoch 7/30\n",
      "4078/4078 [==============================] - 24s 6ms/step - loss: 0.0026 - mse: 0.0022\n",
      "\n",
      "Epoch 00007: loss improved from 0.00260 to 0.00257, saving model to model_checkpoints_reg1\n",
      "Epoch 8/30\n",
      "4078/4078 [==============================] - 16s 4ms/step - loss: 0.0026 - mse: 0.0022\n",
      "\n",
      "Epoch 00008: loss improved from 0.00257 to 0.00256, saving model to model_checkpoints_reg1\n",
      "Epoch 9/30\n",
      "4078/4078 [==============================] - 11s 3ms/step - loss: 0.0025 - mse: 0.0022\n",
      "\n",
      "Epoch 00009: loss improved from 0.00256 to 0.00254, saving model to model_checkpoints_reg1\n",
      "Epoch 10/30\n",
      "4078/4078 [==============================] - 11s 3ms/step - loss: 0.0025 - mse: 0.0022\n",
      "\n",
      "Epoch 00010: loss improved from 0.00254 to 0.00254, saving model to model_checkpoints_reg1\n",
      "Epoch 11/30\n",
      "4078/4078 [==============================] - 9s 2ms/step - loss: 0.0025 - mse: 0.0022\n",
      "\n",
      "Epoch 00011: loss improved from 0.00254 to 0.00253, saving model to model_checkpoints_reg1\n",
      "Epoch 12/30\n",
      "4078/4078 [==============================] - 9s 2ms/step - loss: 0.0025 - mse: 0.0022\n",
      "\n",
      "Epoch 00012: loss improved from 0.00253 to 0.00252, saving model to model_checkpoints_reg1\n",
      "Epoch 13/30\n",
      "4078/4078 [==============================] - 9s 2ms/step - loss: 0.0025 - mse: 0.0022\n",
      "\n",
      "Epoch 00013: loss improved from 0.00252 to 0.00251, saving model to model_checkpoints_reg1\n",
      "Epoch 14/30\n",
      "4078/4078 [==============================] - 10s 3ms/step - loss: 0.0025 - mse: 0.0022\n",
      "\n",
      "Epoch 00014: loss improved from 0.00251 to 0.00250, saving model to model_checkpoints_reg1\n",
      "Epoch 15/30\n",
      "4078/4078 [==============================] - 11s 3ms/step - loss: 0.0025 - mse: 0.0022\n",
      "\n",
      "Epoch 00015: loss improved from 0.00250 to 0.00249, saving model to model_checkpoints_reg1\n",
      "Epoch 16/30\n",
      "4078/4078 [==============================] - 13s 3ms/step - loss: 0.0025 - mse: 0.0022\n",
      "\n",
      "Epoch 00016: loss improved from 0.00249 to 0.00249, saving model to model_checkpoints_reg1\n",
      "Epoch 17/30\n",
      "4078/4078 [==============================] - 12s 3ms/step - loss: 0.0025 - mse: 0.0022\n",
      "\n",
      "Epoch 00017: loss improved from 0.00249 to 0.00247, saving model to model_checkpoints_reg1\n",
      "Epoch 18/30\n",
      "4078/4078 [==============================] - 12s 3ms/step - loss: 0.0025 - mse: 0.0022\n",
      "\n",
      "Epoch 00018: loss did not improve from 0.00247\n",
      "Epoch 19/30\n",
      "4078/4078 [==============================] - 11s 3ms/step - loss: 0.0025 - mse: 0.0022\n",
      "\n",
      "Epoch 00019: loss did not improve from 0.00247\n",
      "Epoch 20/30\n",
      "4078/4078 [==============================] - 11s 3ms/step - loss: 0.0025 - mse: 0.0022\n",
      "\n",
      "Epoch 00020: loss improved from 0.00247 to 0.00247, saving model to model_checkpoints_reg1\n",
      "Epoch 21/30\n",
      "4078/4078 [==============================] - 12s 3ms/step - loss: 0.0025 - mse: 0.0022\n",
      "\n",
      "Epoch 00021: loss improved from 0.00247 to 0.00247, saving model to model_checkpoints_reg1\n",
      "Epoch 22/30\n",
      "4078/4078 [==============================] - 13s 3ms/step - loss: 0.0025 - mse: 0.0022\n",
      "\n",
      "Epoch 00022: loss improved from 0.00247 to 0.00246, saving model to model_checkpoints_reg1\n",
      "Epoch 23/30\n",
      "4078/4078 [==============================] - 13s 3ms/step - loss: 0.0025 - mse: 0.0022\n",
      "\n",
      "Epoch 00023: loss did not improve from 0.00246\n",
      "Epoch 24/30\n",
      "4078/4078 [==============================] - 12s 3ms/step - loss: 0.0025 - mse: 0.0022\n",
      "\n",
      "Epoch 00024: loss improved from 0.00246 to 0.00246, saving model to model_checkpoints_reg1\n",
      "Epoch 25/30\n",
      "4078/4078 [==============================] - 11s 3ms/step - loss: 0.0025 - mse: 0.0022\n",
      "\n",
      "Epoch 00025: loss improved from 0.00246 to 0.00246, saving model to model_checkpoints_reg1\n",
      "Epoch 26/30\n",
      "4078/4078 [==============================] - 10s 2ms/step - loss: 0.0025 - mse: 0.0022\n",
      "\n",
      "Epoch 00026: loss did not improve from 0.00246\n",
      "Epoch 27/30\n",
      "4078/4078 [==============================] - 10s 2ms/step - loss: 0.0025 - mse: 0.0022\n",
      "\n",
      "Epoch 00027: loss improved from 0.00246 to 0.00245, saving model to model_checkpoints_reg1\n",
      "Epoch 28/30\n",
      "4078/4078 [==============================] - 9s 2ms/step - loss: 0.0025 - mse: 0.0022\n",
      "\n",
      "Epoch 00028: loss improved from 0.00245 to 0.00245, saving model to model_checkpoints_reg1\n",
      "Epoch 29/30\n",
      "4078/4078 [==============================] - 10s 2ms/step - loss: 0.0025 - mse: 0.0022\n",
      "\n",
      "Epoch 00029: loss improved from 0.00245 to 0.00245, saving model to model_checkpoints_reg1\n",
      "Epoch 30/30\n",
      "4078/4078 [==============================] - 9s 2ms/step - loss: 0.0024 - mse: 0.0022\n",
      "\n",
      "Epoch 00030: loss improved from 0.00245 to 0.00245, saving model to model_checkpoints_reg1\n"
     ]
    }
   ],
   "source": [
    "history = model.fit(Xtrain, ytrain, batch_size=32, epochs=30,callbacks=[checkpoint], verbose=1, shuffle=True)"
   ]
  },
  {
   "cell_type": "code",
   "execution_count": 115,
   "metadata": {},
   "outputs": [
    {
     "name": "stdout",
     "output_type": "stream",
     "text": [
      "The mean squared error of the model on the training set is:  0.002155974962584823\n",
      "The mean squared error of the model on the test set is:  0.0019667594195196714\n"
     ]
    }
   ],
   "source": [
    "ytrain_tf_pred = model.predict(Xtrain)\n",
    "ytest_tf_pred = model.predict(Xtest)\n",
    "print('The mean squared error of the model on the training set is: ', mean_squared_error(ytrain, ytrain_tf_pred))\n",
    "print('The mean squared error of the model on the test set is: ', mean_squared_error(ytest, ytest_tf_pred))"
   ]
  },
  {
   "cell_type": "code",
   "execution_count": 116,
   "metadata": {},
   "outputs": [
    {
     "name": "stdout",
     "output_type": "stream",
     "text": [
      "The RSquared score on the training set is:  0.886772709709825\n",
      "The RSquared score on the test set is:  0.8972473751368157\n"
     ]
    }
   ],
   "source": [
    "print('The RSquared score on the training set is: ' , r2_score(ytrain, ytrain_tf_pred))\n",
    "print('The RSquared score on the test set is: ' , r2_score(ytest, ytest_tf_pred))"
   ]
  },
  {
   "cell_type": "code",
   "execution_count": 117,
   "metadata": {},
   "outputs": [],
   "source": [
    "testing_tracker.append(['Deep Learning',  mean_squared_error(ytest, ytest_tf_pred), r2_score(ytest, ytest_tf_pred)])"
   ]
  },
  {
   "cell_type": "code",
   "execution_count": 118,
   "metadata": {},
   "outputs": [
    {
     "data": {
      "text/plain": [
       "[['Lin Reg Unscaled', 15247241.910642186, 0.7157579915330547],\n",
       " ['Lin Reg', 0.0022344811562814374, 0.8832603511458895],\n",
       " ['Ridge Reg', 0.002234493490468066, 0.8832597067508308],\n",
       " ['AdaBoost', 0.0027235162150641787, 0.8577108937789482],\n",
       " ['Grad. Boosting', 0.0017174804026535465, 0.9102708659878543],\n",
       " ['Unscaled XGBoost', 4666202.183635841, 0.9130117638086562],\n",
       " ['XGBoost', 0.0016267347918709236, 0.9150118371560537],\n",
       " ['Explain. Boost', 0.0022229792633206057, 0.8838612633270598],\n",
       " ['Deep Learning', 0.0019667594195196714, 0.8972473751368157]]"
      ]
     },
     "execution_count": 118,
     "metadata": {},
     "output_type": "execute_result"
    }
   ],
   "source": [
    "testing_tracker"
   ]
  },
  {
   "cell_type": "code",
   "execution_count": 119,
   "metadata": {},
   "outputs": [],
   "source": [
    "testing_tracker = pd.DataFrame(testing_tracker)"
   ]
  },
  {
   "cell_type": "code",
   "execution_count": 120,
   "metadata": {},
   "outputs": [],
   "source": [
    "testing_tracker.columns = ['Model', 'Mean Squared Error', 'R2']"
   ]
  },
  {
   "cell_type": "code",
   "execution_count": 121,
   "metadata": {},
   "outputs": [
    {
     "data": {
      "image/png": "[encoded data removed]",
      "text/plain": [
       "<Figure size 1440x360 with 1 Axes>"
      ]
     },
     "metadata": {},
     "output_type": "display_data"
    }
   ],
   "source": [
    "sns.set(font_scale=1)\n",
    "ax = testing_tracker.plot.bar(x='Model', y='R2', rot=0,  color='DodgerBlue')\n",
    "ax.axhline(testing_tracker['R2'].mean(), color='gray', linewidth=2)\n",
    "ax.legend(loc='right')\n",
    "ax.title.set_text('Model R2 Comparison')\n",
    "ax.set( ylabel='R2')\n",
    "y = testing_tracker['R2']\n",
    "for i in range(len(y)):\n",
    "    ax.text(i, y[i], str(int(round(y[i],3)* 1000)/10) + '%', ha='center')"
   ]
  },
  {
   "cell_type": "markdown",
   "metadata": {},
   "source": [
    "<h3>Deep learning performed better than the linear models & explainable boosting, but did not perform as well as gradient boosting or XGBoost</h3>"
   ]
  },
  {
   "cell_type": "markdown",
   "metadata": {},
   "source": [
    "<h2>Step 3: Model Explainability</h2>"
   ]
  },
  {
   "cell_type": "markdown",
   "metadata": {},
   "source": [
    "<h3>Explainable Boosting Machine Feature Importance</h3>\n",
    "<h4>It's no longer enough to simply show that a model performs, we now need to explain why a model predicts what it does. For example, if a loan product is indirectly discriminating against a segment of customers the company could be at risk. EBM is a glass box model that can show directy what features led to a model decision, but other black box models such as XGBoost can utilize Shapley values. \n",
    "    \n",
    "Shapley values estimate the marginal impact of a feature. We will compare the EBM feature importance to the Shap values for XGBoost to see if the models are consistently using the same features to come up with their predictions.</h4>"
   ]
  },
  {
   "cell_type": "code",
   "execution_count": 122,
   "metadata": {},
   "outputs": [
    {
     "data": {
      "text/html": [
       "<!-- http://127.0.0.1:7001/140293685565136/ -->\n",
       "<iframe src=\"http://127.0.0.1:7001/140293685565136/\" width=100% height=800 frameBorder=\"0\"></iframe>"
      ]
     },
     "metadata": {},
     "output_type": "display_data"
    }
   ],
   "source": [
    "from interpret import show\n",
    "\n",
    "ebm_global = ebm.explain_global()\n",
    "show(ebm_global)"
   ]
  },
  {
   "cell_type": "markdown",
   "metadata": {},
   "source": [
    "<h2>XGBoost Shapley Values</h2>"
   ]
  },
  {
   "cell_type": "code",
   "execution_count": 123,
   "metadata": {},
   "outputs": [],
   "source": [
    "import shap\n",
    "\n",
    "explainer = shap.TreeExplainer(xgbr)\n",
    "shap_values = explainer(Xtrain)"
   ]
  },
  {
   "cell_type": "code",
   "execution_count": 124,
   "metadata": {},
   "outputs": [
    {
     "data": {
      "image/png": "[encoded data removed]",
      "text/plain": [
       "<Figure size 576x252 with 1 Axes>"
      ]
     },
     "metadata": {},
     "output_type": "display_data"
    }
   ],
   "source": [
    "shap.plots.bar(shap_values, max_display=20)"
   ]
  },
  {
   "cell_type": "markdown",
   "metadata": {},
   "source": [
    "<h2>Deep Learning Shapley Values</h2>"
   ]
  },
  {
   "cell_type": "code",
   "execution_count": 125,
   "metadata": {},
   "outputs": [],
   "source": [
    "explainer = shap.KernelExplainer(model, Xtrain.iloc[:50,:])"
   ]
  },
  {
   "cell_type": "code",
   "execution_count": 126,
   "metadata": {},
   "outputs": [
    {
     "data": {
      "application/vnd.jupyter.widget-view+json": {
       "model_id": "8d48cce3650642d8b10761861fed93d1",
       "version_major": 2,
       "version_minor": 0
      },
      "text/plain": [
       "  0%|          | 0/1000 [00:00<?, ?it/s]"
      ]
     },
     "metadata": {},
     "output_type": "display_data"
    }
   ],
   "source": [
    "shap_values = explainer.shap_values(Xtrain[:1000], nsamples=500)"
   ]
  },
  {
   "cell_type": "code",
   "execution_count": 127,
   "metadata": {},
   "outputs": [
    {
     "data": {
      "image/png": "[encoded data removed]",
      "text/plain": [
       "<Figure size 576x223.2 with 1 Axes>"
      ]
     },
     "metadata": {},
     "output_type": "display_data"
    }
   ],
   "source": [
    "shap.summary_plot(shap_values, plot_type='bar',max_display=20, feature_names = Xtrain.columns)"
   ]
  },
  {
   "cell_type": "markdown",
   "metadata": {},
   "source": [
    "<h3>Deep Learning, XGBoost & EBM all have DRG (Diagnosis Related Group) definition as the most important variable. XGBoost had the highest test accuracy so we will utilize XGBoost in our \"production model\".</h3>"
   ]
  }
 ],
 "metadata": {
  "kernelspec": {
   "display_name": "Python 3",
   "language": "python",
   "name": "python3"
  },
  "language_info": {
   "codemirror_mode": {
    "name": "ipython",
    "version": 3
   },
   "file_extension": ".py",
   "mimetype": "text/x-python",
   "name": "python",
   "nbconvert_exporter": "python",
   "pygments_lexer": "ipython3",
   "version": "3.8.3"
  }
 },
 "nbformat": 4,
 "nbformat_minor": 4
}
